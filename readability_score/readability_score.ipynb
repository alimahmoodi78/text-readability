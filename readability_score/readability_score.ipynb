{
  "cells": [
    {
      "cell_type": "code",
      "execution_count": null,
      "id": "51ade810",
      "metadata": {
        "_cell_guid": "b1076dfc-b9ad-4769-8c92-a6c4dae69d19",
        "_uuid": "8f2839f25d086af736a60e9eeb907d3b93b6e0e5",
        "execution": {
          "iopub.execute_input": "2021-08-06T09:37:33.565507Z",
          "iopub.status.busy": "2021-08-06T09:37:33.564730Z",
          "iopub.status.idle": "2021-08-06T09:37:41.641319Z",
          "shell.execute_reply": "2021-08-06T09:37:41.640622Z",
          "shell.execute_reply.started": "2021-08-05T16:11:50.364608Z"
        },
        "papermill": {
          "duration": 8.104191,
          "end_time": "2021-08-06T09:37:41.641487",
          "exception": false,
          "start_time": "2021-08-06T09:37:33.537296",
          "status": "completed"
        },
        "tags": [],
        "id": "51ade810"
      },
      "outputs": [],
      "source": [
        "import torch\n",
        "from torch import nn\n",
        "from torch.utils.data import Dataset, DataLoader\n",
        "import numpy as np\n",
        "import pandas as pd\n",
        "import matplotlib.pyplot as plt\n",
        "import torchtext\n",
        "import os\n",
        "import nltk\n",
        "from nltk.stem import SnowballStemmer\n",
        "from tensorflow.keras.preprocessing.text import Tokenizer\n",
        "from tensorflow.keras.preprocessing.sequence import pad_sequences\n",
        "from sklearn.model_selection import train_test_split\n",
        "from tqdm.auto import tqdm\n",
        "from copy import deepcopy"
      ]
    },
    {
      "cell_type": "markdown",
      "source": [
        "# this notebook was ran on kaggle and dataset is available as CommonLitReadability so first we need to import the dataset into the notebook"
      ],
      "metadata": {
        "id": "QStpv1NVpUhq"
      },
      "id": "QStpv1NVpUhq"
    },
    {
      "cell_type": "code",
      "execution_count": null,
      "id": "3abd7baa",
      "metadata": {
        "execution": {
          "iopub.execute_input": "2021-08-06T09:37:41.669236Z",
          "iopub.status.busy": "2021-08-06T09:37:41.668653Z",
          "iopub.status.idle": "2021-08-06T09:37:41.671623Z",
          "shell.execute_reply": "2021-08-06T09:37:41.671209Z",
          "shell.execute_reply.started": "2021-08-05T15:09:32.315992Z"
        },
        "papermill": {
          "duration": 0.018224,
          "end_time": "2021-08-06T09:37:41.671751",
          "exception": false,
          "start_time": "2021-08-06T09:37:41.653527",
          "status": "completed"
        },
        "tags": [],
        "id": "3abd7baa"
      },
      "outputs": [],
      "source": [
        "train_df_path = '../input/commonlitreadabilityprize/train.csv'\n",
        "test_df_path = '../input/commonlitreadabilityprize/test.csv'"
      ]
    },
    {
      "cell_type": "code",
      "execution_count": null,
      "id": "dec5953a",
      "metadata": {
        "execution": {
          "iopub.execute_input": "2021-08-06T09:37:41.699950Z",
          "iopub.status.busy": "2021-08-06T09:37:41.699383Z",
          "iopub.status.idle": "2021-08-06T09:37:41.826541Z",
          "shell.execute_reply": "2021-08-06T09:37:41.825976Z",
          "shell.execute_reply.started": "2021-08-05T16:31:36.618633Z"
        },
        "papermill": {
          "duration": 0.14339,
          "end_time": "2021-08-06T09:37:41.826696",
          "exception": false,
          "start_time": "2021-08-06T09:37:41.683306",
          "status": "completed"
        },
        "tags": [],
        "id": "dec5953a"
      },
      "outputs": [],
      "source": [
        "train_df = pd.read_csv(train_df_path).iloc[:,[3,4]]\n",
        "test_df = pd.read_csv(test_df_path).iloc[:,[0, -1]]"
      ]
    },
    {
      "cell_type": "markdown",
      "source": [
        "# in this cell we tokenize the words using torchtext tokenizer and then stem the words with Snowball Stemmer and in the end we split the the training and validation sets then convert them to sequences and pad them."
      ],
      "metadata": {
        "id": "e50uc3S-xx0n"
      },
      "id": "e50uc3S-xx0n"
    },
    {
      "cell_type": "code",
      "execution_count": null,
      "id": "fad91074",
      "metadata": {
        "execution": {
          "iopub.execute_input": "2021-08-06T09:37:41.894836Z",
          "iopub.status.busy": "2021-08-06T09:37:41.889733Z",
          "iopub.status.idle": "2021-08-06T09:37:47.885464Z",
          "shell.execute_reply": "2021-08-06T09:37:47.884878Z",
          "shell.execute_reply.started": "2021-08-05T15:09:33.879083Z"
        },
        "papermill": {
          "duration": 6.047071,
          "end_time": "2021-08-06T09:37:47.885612",
          "exception": false,
          "start_time": "2021-08-06T09:37:41.838541",
          "status": "completed"
        },
        "tags": [],
        "id": "fad91074"
      },
      "outputs": [],
      "source": [
        "tokenizer = torchtext.data.utils.get_tokenizer('basic_english')\n",
        "stemmer = SnowballStemmer('english')\n",
        "sent = list(train_df.iloc[:,0])\n",
        "sent = [tokenizer(x) for x in sent]\n",
        "sent = [[stemmer.stem(x) for x in sen] for sen in sent]\n",
        "max_len = max([len(x) for x in sent])\n",
        "sent = [' '.join(x) for x in sent]\n",
        "score = list(train_df.iloc[:,1])\n",
        "xtr, xte, ytr, yte = train_test_split(sent, score, test_size = 0.1)\n",
        "tokenizer = Tokenizer(oov_token = '<oov>')\n",
        "tokenizer.fit_on_texts(xtr)\n",
        "xtr = tokenizer.texts_to_sequences(xtr)\n",
        "xte = tokenizer.texts_to_sequences(xte)\n",
        "xtr = np.array(pad_sequences(xtr , maxlen = max_len), dtype = np.int64)\n",
        "xte = np.array(pad_sequences(xte , maxlen = max_len), dtype = np.int64)\n",
        "ytr = np.array(ytr, dtype = np.float32)\n",
        "yte = np.array(yte, dtype = np.float32)"
      ]
    },
    {
      "cell_type": "code",
      "execution_count": null,
      "id": "5c42b063",
      "metadata": {
        "execution": {
          "iopub.execute_input": "2021-08-06T09:37:47.915478Z",
          "iopub.status.busy": "2021-08-06T09:37:47.914844Z",
          "iopub.status.idle": "2021-08-06T09:37:47.917879Z",
          "shell.execute_reply": "2021-08-06T09:37:47.917353Z",
          "shell.execute_reply.started": "2021-08-05T15:42:57.617740Z"
        },
        "papermill": {
          "duration": 0.020009,
          "end_time": "2021-08-06T09:37:47.918005",
          "exception": false,
          "start_time": "2021-08-06T09:37:47.897996",
          "status": "completed"
        },
        "tags": [],
        "id": "5c42b063"
      },
      "outputs": [],
      "source": [
        "class LitDataset(Dataset):\n",
        "    def __init__(self, seqs, scores, seq_lens):\n",
        "        self.sequences = torch.from_numpy(seqs)\n",
        "        self.scores = torch.from_numpy(scores)\n",
        "        self.sequence_lens = torch.from_numpy(seq_lens)\n",
        "    def __len__(self):\n",
        "        return len(self.scores)\n",
        "    def __getitem__(self, idx):\n",
        "        return self.sequences[idx], self.scores[idx], self.sequence_lens[idx]"
      ]
    },
    {
      "cell_type": "code",
      "execution_count": null,
      "id": "2d753b18",
      "metadata": {
        "execution": {
          "iopub.execute_input": "2021-08-06T09:37:47.953903Z",
          "iopub.status.busy": "2021-08-06T09:37:47.953281Z",
          "iopub.status.idle": "2021-08-06T09:37:47.955603Z",
          "shell.execute_reply": "2021-08-06T09:37:47.956176Z",
          "shell.execute_reply.started": "2021-08-05T15:42:58.320999Z"
        },
        "papermill": {
          "duration": 0.026555,
          "end_time": "2021-08-06T09:37:47.956345",
          "exception": false,
          "start_time": "2021-08-06T09:37:47.929790",
          "status": "completed"
        },
        "tags": [],
        "id": "2d753b18"
      },
      "outputs": [],
      "source": [
        "train_seq_lens = np.array([260] * len(xtr), dtype = np.int64)\n",
        "val_seq_lens = np.array([260] * len(xte), dtype = np.int64)\n",
        "train_data = LitDataset(xtr, ytr, train_seq_lens)\n",
        "val_data = LitDataset(xte, yte, val_seq_lens)\n",
        "train_data = DataLoader(train_data, batch_size = 8)\n",
        "val_data = DataLoader(val_data)"
      ]
    },
    {
      "cell_type": "markdown",
      "source": [
        "# we initialize the model with an embedding layer and 2 LSTM layers and 3 Linear layers and then we use Adam optimizer and MSE loss to train the model."
      ],
      "metadata": {
        "id": "OFO_QuKt1Swx"
      },
      "id": "OFO_QuKt1Swx"
    },
    {
      "cell_type": "code",
      "execution_count": null,
      "id": "eff6f0cb",
      "metadata": {
        "execution": {
          "iopub.execute_input": "2021-08-06T09:37:47.988244Z",
          "iopub.status.busy": "2021-08-06T09:37:47.987627Z",
          "iopub.status.idle": "2021-08-06T09:37:47.989437Z",
          "shell.execute_reply": "2021-08-06T09:37:47.989850Z",
          "shell.execute_reply.started": "2021-08-05T16:12:04.312522Z"
        },
        "papermill": {
          "duration": 0.02151,
          "end_time": "2021-08-06T09:37:47.990052",
          "exception": false,
          "start_time": "2021-08-06T09:37:47.968542",
          "status": "completed"
        },
        "tags": [],
        "id": "eff6f0cb"
      },
      "outputs": [],
      "source": [
        "class ScoreModel(nn.Module):\n",
        "    def __init__(self, embedding_dim):\n",
        "        super(ScoreModel, self).__init__()\n",
        "        self.embedding_dim = embedding_dim\n",
        "        self.embedding = nn.Embedding(len(tokenizer.word_counts)+1, embedding_dim)\n",
        "        self.lstm = nn.LSTM(embedding_dim, 256, num_layers = 2, batch_first = True)\n",
        "        self.fc1 = nn.Linear(256 , 128)\n",
        "        self.fc2 = nn.Linear(128, 64)\n",
        "        self.fc3 = nn.Linear(64, 1)\n",
        "        self.relu = nn.ReLU()\n",
        "    def forward(self, x):\n",
        "        x = self.embedding(x)\n",
        "        x, _ = self.lstm(x)\n",
        "        x = torch.mean(x, dim = 1)\n",
        "        x = self.fc1(x)\n",
        "        x = self.relu(x)\n",
        "        x = self.fc2(x)\n",
        "        x = self.relu(x)\n",
        "        x = self.fc3(x)\n",
        "        return x"
      ]
    },
    {
      "cell_type": "code",
      "execution_count": null,
      "id": "8932d96c",
      "metadata": {
        "execution": {
          "iopub.execute_input": "2021-08-06T09:37:48.017167Z",
          "iopub.status.busy": "2021-08-06T09:37:48.016545Z",
          "iopub.status.idle": "2021-08-06T09:37:48.108972Z",
          "shell.execute_reply": "2021-08-06T09:37:48.108075Z",
          "shell.execute_reply.started": "2021-08-05T16:38:07.585313Z"
        },
        "papermill": {
          "duration": 0.1069,
          "end_time": "2021-08-06T09:37:48.109159",
          "exception": false,
          "start_time": "2021-08-06T09:37:48.002259",
          "status": "completed"
        },
        "tags": [],
        "id": "8932d96c"
      },
      "outputs": [],
      "source": [
        "model = ScoreModel(256)"
      ]
    },
    {
      "cell_type": "code",
      "execution_count": null,
      "id": "c0b8e035",
      "metadata": {
        "execution": {
          "iopub.execute_input": "2021-08-06T09:37:48.139086Z",
          "iopub.status.busy": "2021-08-06T09:37:48.138464Z",
          "iopub.status.idle": "2021-08-06T09:37:48.141671Z",
          "shell.execute_reply": "2021-08-06T09:37:48.141126Z",
          "shell.execute_reply.started": "2021-08-05T16:38:10.417395Z"
        },
        "papermill": {
          "duration": 0.020234,
          "end_time": "2021-08-06T09:37:48.141810",
          "exception": false,
          "start_time": "2021-08-06T09:37:48.121576",
          "status": "completed"
        },
        "tags": [],
        "id": "c0b8e035"
      },
      "outputs": [],
      "source": [
        "optimizer = torch.optim.Adam(model.parameters(), lr = 0.0001)\n",
        "criteria = nn.MSELoss()"
      ]
    },
    {
      "cell_type": "code",
      "execution_count": null,
      "id": "5eb7b2df",
      "metadata": {
        "execution": {
          "iopub.execute_input": "2021-08-06T09:37:48.174304Z",
          "iopub.status.busy": "2021-08-06T09:37:48.173684Z",
          "iopub.status.idle": "2021-08-06T09:37:48.176731Z",
          "shell.execute_reply": "2021-08-06T09:37:48.176234Z",
          "shell.execute_reply.started": "2021-08-05T16:38:12.202827Z"
        },
        "papermill": {
          "duration": 0.023411,
          "end_time": "2021-08-06T09:37:48.176854",
          "exception": false,
          "start_time": "2021-08-06T09:37:48.153443",
          "status": "completed"
        },
        "tags": [],
        "id": "5eb7b2df"
      },
      "outputs": [],
      "source": [
        "def train_model(model, train_data, optimizer, criteria, epochs, val_data = None, device = 'cpu'):\n",
        "    model = model.to(device)\n",
        "    model_state = None\n",
        "    best_val = 10\n",
        "    for epoch in range(epochs):\n",
        "        train_loss = 0\n",
        "        val_loss = 0\n",
        "        model.train()\n",
        "        for seq, score, lens in tqdm(train_data):\n",
        "            try:\n",
        "                seq = seq.to(device)\n",
        "                score = score.to(device)\n",
        "                pred = model(seq)[:,0]\n",
        "                loss = criteria(pred, score)\n",
        "                train_loss += loss.item()\n",
        "\n",
        "                optimizer.zero_grad()\n",
        "                loss.backward()\n",
        "                optimizer.step()\n",
        "            except:\n",
        "                continue\n",
        "        train_loss /= train_data.__len__()\n",
        "        if val_data:\n",
        "            model.eval()\n",
        "            for seq, score, lens in val_data:\n",
        "                try:\n",
        "                    seq = seq.to(device)\n",
        "                    score = score.to(device)\n",
        "                    pred = model(seq)[:,0]\n",
        "                    loss = criteria(pred , score)\n",
        "                    val_loss += loss.item()\n",
        "                except:\n",
        "                    continue\n",
        "            val_loss /= val_data.__len__()\n",
        "            if val_loss < best_val:\n",
        "                model_state = deepcopy(model.state_dict())\n",
        "            print('epoch:', epoch, 'loss:', train_loss, ';;;; val_loss:', val_loss)\n",
        "        else:\n",
        "            print('epoch:', epoch, 'loss: ', train_loss)\n",
        "    if val_data:\n",
        "        model.load_state_dict(model_state)"
      ]
    },
    {
      "cell_type": "code",
      "execution_count": null,
      "id": "4c2a944a",
      "metadata": {
        "execution": {
          "iopub.execute_input": "2021-08-06T09:37:48.206267Z",
          "iopub.status.busy": "2021-08-06T09:37:48.205538Z",
          "iopub.status.idle": "2021-08-06T09:54:57.171354Z",
          "shell.execute_reply": "2021-08-06T09:54:57.172107Z",
          "shell.execute_reply.started": "2021-08-05T16:38:14.955871Z"
        },
        "papermill": {
          "duration": 1028.984138,
          "end_time": "2021-08-06T09:54:57.172539",
          "exception": false,
          "start_time": "2021-08-06T09:37:48.188401",
          "status": "completed"
        },
        "tags": [],
        "id": "4c2a944a",
        "outputId": "58c18e57-3db2-4b97-b541-f2520d6aceb7",
        "colab": {
          "referenced_widgets": [
            "05a88b53203f4ef09d6710f30937d04c",
            "2088112b39e34fa193c33c82b2faadf4",
            "8ad92375f95649b0af43228beebcb711",
            "dccdf426bdbe46dfbceadc1c0ec47a7d",
            "c2f19b0e54c14ca9b22bbaa8d8b6599a",
            "bcfb9e57ac804e588eb8424a5d8468ee",
            "8159c6b5ef1d4515882e1a4972ca4d92"
          ]
        }
      },
      "outputs": [
        {
          "data": {
            "application/vnd.jupyter.widget-view+json": {
              "model_id": "05a88b53203f4ef09d6710f30937d04c",
              "version_major": 2,
              "version_minor": 0
            },
            "text/plain": [
              "  0%|          | 0/319 [00:00<?, ?it/s]"
            ]
          },
          "metadata": {},
          "output_type": "display_data"
        },
        {
          "name": "stdout",
          "output_type": "stream",
          "text": [
            "epoch: 0 loss: 1.066289151396871 ;;;; val_loss: 0.7163879023121718\n"
          ]
        },
        {
          "data": {
            "application/vnd.jupyter.widget-view+json": {
              "model_id": "2088112b39e34fa193c33c82b2faadf4",
              "version_major": 2,
              "version_minor": 0
            },
            "text/plain": [
              "  0%|          | 0/319 [00:00<?, ?it/s]"
            ]
          },
          "metadata": {},
          "output_type": "display_data"
        },
        {
          "name": "stdout",
          "output_type": "stream",
          "text": [
            "epoch: 1 loss: 0.6929788043880164 ;;;; val_loss: 0.6708163028998274\n"
          ]
        },
        {
          "data": {
            "application/vnd.jupyter.widget-view+json": {
              "model_id": "8ad92375f95649b0af43228beebcb711",
              "version_major": 2,
              "version_minor": 0
            },
            "text/plain": [
              "  0%|          | 0/319 [00:00<?, ?it/s]"
            ]
          },
          "metadata": {},
          "output_type": "display_data"
        },
        {
          "name": "stdout",
          "output_type": "stream",
          "text": [
            "epoch: 2 loss: 0.5442888828047017 ;;;; val_loss: 0.62644469527444\n"
          ]
        },
        {
          "data": {
            "application/vnd.jupyter.widget-view+json": {
              "model_id": "dccdf426bdbe46dfbceadc1c0ec47a7d",
              "version_major": 2,
              "version_minor": 0
            },
            "text/plain": [
              "  0%|          | 0/319 [00:00<?, ?it/s]"
            ]
          },
          "metadata": {},
          "output_type": "display_data"
        },
        {
          "name": "stdout",
          "output_type": "stream",
          "text": [
            "epoch: 3 loss: 0.4625589349613668 ;;;; val_loss: 0.6123941312091367\n"
          ]
        },
        {
          "data": {
            "application/vnd.jupyter.widget-view+json": {
              "model_id": "c2f19b0e54c14ca9b22bbaa8d8b6599a",
              "version_major": 2,
              "version_minor": 0
            },
            "text/plain": [
              "  0%|          | 0/319 [00:00<?, ?it/s]"
            ]
          },
          "metadata": {},
          "output_type": "display_data"
        },
        {
          "name": "stdout",
          "output_type": "stream",
          "text": [
            "epoch: 4 loss: 0.4015739926700495 ;;;; val_loss: 0.6024644752968101\n"
          ]
        },
        {
          "data": {
            "application/vnd.jupyter.widget-view+json": {
              "model_id": "bcfb9e57ac804e588eb8424a5d8468ee",
              "version_major": 2,
              "version_minor": 0
            },
            "text/plain": [
              "  0%|          | 0/319 [00:00<?, ?it/s]"
            ]
          },
          "metadata": {},
          "output_type": "display_data"
        },
        {
          "name": "stdout",
          "output_type": "stream",
          "text": [
            "epoch: 5 loss: 0.3476442074911161 ;;;; val_loss: 0.5973101808280469\n"
          ]
        },
        {
          "data": {
            "application/vnd.jupyter.widget-view+json": {
              "model_id": "8159c6b5ef1d4515882e1a4972ca4d92",
              "version_major": 2,
              "version_minor": 0
            },
            "text/plain": [
              "  0%|          | 0/319 [00:00<?, ?it/s]"
            ]
          },
          "metadata": {},
          "output_type": "display_data"
        },
        {
          "name": "stdout",
          "output_type": "stream",
          "text": [
            "epoch: 6 loss: 0.295628444399673 ;;;; val_loss: 0.5914344753778544\n"
          ]
        }
      ],
      "source": [
        "train_model(model, train_data, optimizer, criteria, 7, val_data = val_data, device = 'cpu')"
      ]
    },
    {
      "cell_type": "markdown",
      "source": [
        "# now we trained our model and we can test it using the test data"
      ],
      "metadata": {
        "id": "3a5ta7P7qR9T"
      },
      "id": "3a5ta7P7qR9T"
    },
    {
      "cell_type": "code",
      "execution_count": null,
      "id": "b3353bea",
      "metadata": {
        "execution": {
          "iopub.execute_input": "2021-08-06T09:54:57.223351Z",
          "iopub.status.busy": "2021-08-06T09:54:57.218155Z",
          "iopub.status.idle": "2021-08-06T09:54:57.233223Z",
          "shell.execute_reply": "2021-08-06T09:54:57.233641Z",
          "shell.execute_reply.started": "2021-08-05T16:33:28.221669Z"
        },
        "papermill": {
          "duration": 0.043953,
          "end_time": "2021-08-06T09:54:57.233806",
          "exception": false,
          "start_time": "2021-08-06T09:54:57.189853",
          "status": "completed"
        },
        "tags": [],
        "id": "b3353bea"
      },
      "outputs": [],
      "source": [
        "test_data = list(test_df.iloc[:,1])\n",
        "tok = torchtext.data.utils.get_tokenizer('basic_english')\n",
        "stemmer = SnowballStemmer('english')\n",
        "sent = test_data\n",
        "sent = [tok(x) for x in sent]\n",
        "sent = [[stemmer.stem(x) for x in sen] for sen in sent]\n",
        "max_len = max([len(x) for x in sent])\n",
        "sent = [' '.join(x) for x in sent]\n",
        "test_data = tokenizer.texts_to_sequences(sent)\n",
        "test_data = np.array(pad_sequences(test_data, maxlen = 260), dtype = np.int64)"
      ]
    },
    {
      "cell_type": "code",
      "execution_count": null,
      "id": "f351fd8c",
      "metadata": {
        "execution": {
          "iopub.execute_input": "2021-08-06T09:54:57.270601Z",
          "iopub.status.busy": "2021-08-06T09:54:57.269926Z",
          "iopub.status.idle": "2021-08-06T09:54:57.271707Z",
          "shell.execute_reply": "2021-08-06T09:54:57.272149Z",
          "shell.execute_reply.started": "2021-08-05T16:33:32.488923Z"
        },
        "papermill": {
          "duration": 0.022908,
          "end_time": "2021-08-06T09:54:57.272308",
          "exception": false,
          "start_time": "2021-08-06T09:54:57.249400",
          "status": "completed"
        },
        "tags": [],
        "id": "f351fd8c"
      },
      "outputs": [],
      "source": [
        "class LitDatasetTest(Dataset):\n",
        "    def __init__(self, seqs):\n",
        "        self.sequences = torch.from_numpy(seqs)\n",
        "    def __len__(self):\n",
        "        return len(self.sequences)\n",
        "    def __getitem__(self, idx):\n",
        "        return self.sequences[idx]"
      ]
    },
    {
      "cell_type": "code",
      "execution_count": null,
      "id": "249b548f",
      "metadata": {
        "execution": {
          "iopub.execute_input": "2021-08-06T09:54:57.306794Z",
          "iopub.status.busy": "2021-08-06T09:54:57.306202Z",
          "iopub.status.idle": "2021-08-06T09:54:57.310074Z",
          "shell.execute_reply": "2021-08-06T09:54:57.310559Z",
          "shell.execute_reply.started": "2021-08-05T16:33:35.641501Z"
        },
        "papermill": {
          "duration": 0.022674,
          "end_time": "2021-08-06T09:54:57.310729",
          "exception": false,
          "start_time": "2021-08-06T09:54:57.288055",
          "status": "completed"
        },
        "tags": [],
        "id": "249b548f"
      },
      "outputs": [],
      "source": [
        "test_data = LitDatasetTest(test_data)\n",
        "test_data = DataLoader(test_data, batch_size = test_data.__len__())"
      ]
    },
    {
      "cell_type": "code",
      "execution_count": null,
      "id": "e4ea7eec",
      "metadata": {
        "execution": {
          "iopub.execute_input": "2021-08-06T09:54:57.346499Z",
          "iopub.status.busy": "2021-08-06T09:54:57.345868Z",
          "iopub.status.idle": "2021-08-06T09:54:57.460267Z",
          "shell.execute_reply": "2021-08-06T09:54:57.460782Z",
          "shell.execute_reply.started": "2021-08-05T16:34:44.480499Z"
        },
        "papermill": {
          "duration": 0.134524,
          "end_time": "2021-08-06T09:54:57.461000",
          "exception": false,
          "start_time": "2021-08-06T09:54:57.326476",
          "status": "completed"
        },
        "tags": [],
        "id": "e4ea7eec"
      },
      "outputs": [],
      "source": [
        "data = next(iter(test_data))\n",
        "pred = model(data)"
      ]
    },
    {
      "cell_type": "code",
      "execution_count": null,
      "id": "b63bc662",
      "metadata": {
        "execution": {
          "iopub.execute_input": "2021-08-06T09:54:57.496312Z",
          "iopub.status.busy": "2021-08-06T09:54:57.495710Z",
          "iopub.status.idle": "2021-08-06T09:54:57.505628Z",
          "shell.execute_reply": "2021-08-06T09:54:57.506041Z",
          "shell.execute_reply.started": "2021-08-05T16:34:46.329749Z"
        },
        "papermill": {
          "duration": 0.029276,
          "end_time": "2021-08-06T09:54:57.506219",
          "exception": false,
          "start_time": "2021-08-06T09:54:57.476943",
          "status": "completed"
        },
        "tags": [],
        "id": "b63bc662"
      },
      "outputs": [],
      "source": [
        "pred = pred[:,0].detach().numpy()"
      ]
    },
    {
      "cell_type": "code",
      "execution_count": null,
      "id": "8c573350",
      "metadata": {
        "execution": {
          "iopub.execute_input": "2021-08-06T09:54:57.543982Z",
          "iopub.status.busy": "2021-08-06T09:54:57.543102Z",
          "iopub.status.idle": "2021-08-06T09:54:57.545394Z",
          "shell.execute_reply": "2021-08-06T09:54:57.545904Z",
          "shell.execute_reply.started": "2021-08-05T16:34:52.746483Z"
        },
        "papermill": {
          "duration": 0.024224,
          "end_time": "2021-08-06T09:54:57.546077",
          "exception": false,
          "start_time": "2021-08-06T09:54:57.521853",
          "status": "completed"
        },
        "tags": [],
        "id": "8c573350"
      },
      "outputs": [],
      "source": [
        "names = test_df.iloc[:,0]\n",
        "df = pd.DataFrame({'id':names , 'target':pred})"
      ]
    },
    {
      "cell_type": "code",
      "execution_count": null,
      "id": "5118556b",
      "metadata": {
        "execution": {
          "iopub.execute_input": "2021-08-06T09:54:57.580914Z",
          "iopub.status.busy": "2021-08-06T09:54:57.579993Z",
          "iopub.status.idle": "2021-08-06T09:54:57.590981Z",
          "shell.execute_reply": "2021-08-06T09:54:57.590344Z",
          "shell.execute_reply.started": "2021-08-05T16:36:16.115984Z"
        },
        "papermill": {
          "duration": 0.029461,
          "end_time": "2021-08-06T09:54:57.591171",
          "exception": false,
          "start_time": "2021-08-06T09:54:57.561710",
          "status": "completed"
        },
        "tags": [],
        "id": "5118556b"
      },
      "outputs": [],
      "source": [
        "df.to_csv('./submission.csv', index = False)"
      ]
    }
  ],
  "metadata": {
    "kernelspec": {
      "display_name": "Python 3",
      "language": "python",
      "name": "python3"
    },
    "language_info": {
      "codemirror_mode": {
        "name": "ipython",
        "version": 3
      },
      "file_extension": ".py",
      "mimetype": "text/x-python",
      "name": "python",
      "nbconvert_exporter": "python",
      "pygments_lexer": "ipython3",
      "version": "3.7.10"
    },
    "papermill": {
      "default_parameters": {},
      "duration": 1053.083818,
      "end_time": "2021-08-06T09:54:59.588501",
      "environment_variables": {},
      "exception": null,
      "input_path": "__notebook__.ipynb",
      "output_path": "__notebook__.ipynb",
      "parameters": {},
      "start_time": "2021-08-06T09:37:26.504683",
      "version": "2.3.3"
    },
    "colab": {
      "name": "Copy of readability-score.ipynb",
      "provenance": [],
      "collapsed_sections": []
    }
  },
  "nbformat": 4,
  "nbformat_minor": 5
}